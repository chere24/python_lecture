{
 "cells": [
  {
   "cell_type": "code",
   "execution_count": 2,
   "id": "f6068f75",
   "metadata": {
    "ExecuteTime": {
     "end_time": "2021-05-25T05:16:38.709159Z",
     "start_time": "2021-05-25T05:16:38.704158Z"
    }
   },
   "outputs": [
    {
     "name": "stdout",
     "output_type": "stream",
     "text": [
      "1\n",
      "1\n",
      "2\n",
      "1\n",
      "1\n",
      "2\n",
      "1\n",
      "1\n",
      "2\n",
      "1\n",
      "1\n",
      "2\n",
      "1\n",
      "1\n",
      "2\n"
     ]
    }
   ],
   "source": [
    "for i in range(10):\n",
    "    print(\"1\")\n",
    "    if i%2==0:\n",
    "        continue\n",
    "    print('2')"
   ]
  },
  {
   "cell_type": "code",
   "execution_count": 5,
   "id": "ea605eac",
   "metadata": {
    "ExecuteTime": {
     "end_time": "2021-05-25T05:30:20.405946Z",
     "start_time": "2021-05-25T05:30:20.391971Z"
    }
   },
   "outputs": [
    {
     "name": "stdout",
     "output_type": "stream",
     "text": [
      "<class 'str'>\n"
     ]
    }
   ],
   "source": [
    "a=type(\"abc\")\n",
    "print(a)"
   ]
  },
  {
   "cell_type": "code",
   "execution_count": 7,
   "id": "62108454",
   "metadata": {
    "ExecuteTime": {
     "end_time": "2021-05-25T06:44:01.544126Z",
     "start_time": "2021-05-25T06:44:01.530115Z"
    }
   },
   "outputs": [
    {
     "name": "stdout",
     "output_type": "stream",
     "text": [
      "Hello! world!\n",
      "hello\n"
     ]
    }
   ],
   "source": [
    "greet=\"hello\"\n",
    "\n",
    "def print_greet():\n",
    "    greet=\"Hello! world!\"\n",
    "    print(greet)\n",
    "    \n",
    "print_greet()\n",
    "print(greet)"
   ]
  },
  {
   "cell_type": "code",
   "execution_count": 10,
   "id": "14be0c07",
   "metadata": {
    "ExecuteTime": {
     "end_time": "2021-05-25T08:00:08.755985Z",
     "start_time": "2021-05-25T08:00:08.743973Z"
    },
    "scrolled": true
   },
   "outputs": [
    {
     "name": "stdout",
     "output_type": "stream",
     "text": [
      "('a', 'b', 'c')\n",
      "a\n",
      "b\n",
      "c\n"
     ]
    }
   ],
   "source": [
    "def greet(*names):\n",
    "    print(names)\n",
    "    for i in names:\n",
    "        print(i)\n",
    "        \n",
    "greet('a','b','c')"
   ]
  },
  {
   "cell_type": "code",
   "execution_count": 12,
   "id": "afc9fe88",
   "metadata": {
    "ExecuteTime": {
     "end_time": "2021-05-25T08:15:30.606576Z",
     "start_time": "2021-05-25T08:15:30.588587Z"
    }
   },
   "outputs": [
    {
     "name": "stdout",
     "output_type": "stream",
     "text": [
      "{'a': 1, 'b': 2, 'c': 3}\n"
     ]
    }
   ],
   "source": [
    "def kwargs_type(**kwargs):\n",
    "    print(kwargs)\n",
    "kwargs_type(a=1, b=2, c=3)\n"
   ]
  },
  {
   "cell_type": "code",
   "execution_count": null,
   "id": "0a60bf99",
   "metadata": {},
   "outputs": [],
   "source": []
  }
 ],
 "metadata": {
  "hide_input": false,
  "kernelspec": {
   "display_name": "Python 3",
   "language": "python",
   "name": "python3"
  },
  "language_info": {
   "codemirror_mode": {
    "name": "ipython",
    "version": 3
   },
   "file_extension": ".py",
   "mimetype": "text/x-python",
   "name": "python",
   "nbconvert_exporter": "python",
   "pygments_lexer": "ipython3",
   "version": "3.7.9"
  },
  "varInspector": {
   "cols": {
    "lenName": 16,
    "lenType": 16,
    "lenVar": 40
   },
   "kernels_config": {
    "python": {
     "delete_cmd_postfix": "",
     "delete_cmd_prefix": "del ",
     "library": "var_list.py",
     "varRefreshCmd": "print(var_dic_list())"
    },
    "r": {
     "delete_cmd_postfix": ") ",
     "delete_cmd_prefix": "rm(",
     "library": "var_list.r",
     "varRefreshCmd": "cat(var_dic_list()) "
    }
   },
   "types_to_exclude": [
    "module",
    "function",
    "builtin_function_or_method",
    "instance",
    "_Feature"
   ],
   "window_display": false
  }
 },
 "nbformat": 4,
 "nbformat_minor": 5
}
